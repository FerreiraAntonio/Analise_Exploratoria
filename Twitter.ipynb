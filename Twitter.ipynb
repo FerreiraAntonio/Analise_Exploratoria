{
  "nbformat": 4,
  "nbformat_minor": 0,
  "metadata": {
    "kernelspec": {
      "display_name": "R",
      "language": "R",
      "name": "ir"
    },
    "language_info": {
      "codemirror_mode": "r",
      "file_extension": ".r",
      "mimetype": "text/x-r-source",
      "name": "R",
      "pygments_lexer": "r",
      "version": "3.6.0"
    },
    "colab": {
      "name": "Twitter.ipynb",
      "version": "0.3.2",
      "provenance": [],
      "include_colab_link": true
    }
  },
  "cells": [
    {
      "cell_type": "markdown",
      "metadata": {
        "id": "view-in-github",
        "colab_type": "text"
      },
      "source": [
        "<a href=\"https://colab.research.google.com/github/FerreiraAntonio/Analise_Exploratoria/blob/master/Twitter.ipynb\" target=\"_parent\"><img src=\"https://colab.research.google.com/assets/colab-badge.svg\" alt=\"Open In Colab\"/></a>"
      ]
    },
    {
      "cell_type": "markdown",
      "metadata": {
        "id": "TDDp3Fayh83R",
        "colab_type": "text"
      },
      "source": [
        "# Twitter Text Mining"
      ]
    },
    {
      "cell_type": "markdown",
      "metadata": {
        "id": "KAYIzXPzh83T",
        "colab_type": "text"
      },
      "source": [
        "#### Carregar os pacotes"
      ]
    },
    {
      "cell_type": "code",
      "metadata": {
        "id": "jYFm27Hbh83U",
        "colab_type": "code",
        "colab": {}
      },
      "source": [
        "suppressMessages(suppressWarnings(library(dplyr)))\n",
        "suppressMessages(suppressWarnings(library(stringr)))\n",
        "suppressMessages(suppressWarnings(library(tidyr)))\n",
        "suppressMessages(suppressWarnings(library(ggplot2)))\n",
        "suppressMessages(suppressWarnings(library(tm)))\n",
        "suppressMessages(suppressWarnings(library(tidytext)))\n",
        "suppressMessages(suppressWarnings(library(wordcloud)))\n",
        "#Pacote responsável pelo gráfico nuvem de palavras\n",
        "suppressMessages(suppressWarnings(library(rtweet)))\n",
        "#Pacote responsável pela manipulação de Tweets"
      ],
      "execution_count": 0,
      "outputs": []
    },
    {
      "cell_type": "markdown",
      "metadata": {
        "id": "Cbr0YcTJh83X",
        "colab_type": "text"
      },
      "source": [
        "#### Criar variáveis para acessar os dados do Twitter"
      ]
    },
    {
      "cell_type": "code",
      "metadata": {
        "id": "-V2IFvQCh83Z",
        "colab_type": "code",
        "colab": {}
      },
      "source": [
        "consumer_key <- \"PuciK9SE4RiSyBeFE3I6veDDv\"\n",
        "consumer_secret <-\"TmKTHXnaNbWaqbngP20jWJdQugWXKh8JlF94L2Wy2o7Lt1Wsl8\"\n",
        "access_token <- \"1149039790861557760-qZYE1zMA4yASYxQ8Z1XHexYBKQkHbN\"\n",
        "access_secret <- \"rMLo4dEQ88zuendJPZk6onMltOGZ4aB2UxRiJ2VGKmB2w\"\n"
      ],
      "execution_count": 0,
      "outputs": []
    },
    {
      "cell_type": "code",
      "metadata": {
        "id": "D2giIoJgh83c",
        "colab_type": "code",
        "colab": {}
      },
      "source": [
        "#### Autenticação da chave e do token"
      ],
      "execution_count": 0,
      "outputs": []
    },
    {
      "cell_type": "code",
      "metadata": {
        "id": "SQTz06aMh83e",
        "colab_type": "code",
        "colab": {}
      },
      "source": [
        "token <- create_token(\n",
        "  app = \"NewPrimeiroApp\",\n",
        "  consumer_key = consumer_key,\n",
        "  consumer_secret = consumer_secret,\n",
        "  access_token = access_token,\n",
        "  access_secret = access_secret)"
      ],
      "execution_count": 0,
      "outputs": []
    },
    {
      "cell_type": "markdown",
      "metadata": {
        "id": "IhGMTOSAh83g",
        "colab_type": "text"
      },
      "source": [
        "#### Variável que vai receber os Tweets "
      ]
    },
    {
      "cell_type": "code",
      "metadata": {
        "id": "gK8yHAyLh83h",
        "colab_type": "code",
        "outputId": "9818716a-5553-41cd-c6f7-539601c37cd1",
        "colab": {}
      },
      "source": [
        "tweets <- search_tweets(\n",
        "  \"#Flamengo OR #Fla OR #flamengo\", n = 200, include_rts = FALSE,\n",
        "  retryonratelimit = TRUE\n",
        ")"
      ],
      "execution_count": 0,
      "outputs": [
        {
          "output_type": "stream",
          "text": [
            "Downloading [=============================>-----------]  72%"
          ],
          "name": "stderr"
        }
      ]
    },
    {
      "cell_type": "markdown",
      "metadata": {
        "id": "c-fxGqPnh83k",
        "colab_type": "text"
      },
      "source": [
        "#### Criação do Corpus"
      ]
    },
    {
      "cell_type": "code",
      "metadata": {
        "id": "GXlJGxJTh83k",
        "colab_type": "code",
        "colab": {}
      },
      "source": [
        "source <- VectorSource(tweets$text)\n",
        "corpus <- Corpus(source)"
      ],
      "execution_count": 0,
      "outputs": []
    },
    {
      "cell_type": "markdown",
      "metadata": {
        "id": "cVPT_fJ2h83m",
        "colab_type": "text"
      },
      "source": [
        "#### Limpamos o corpus"
      ]
    },
    {
      "cell_type": "code",
      "metadata": {
        "id": "-gYfTpi0h83n",
        "colab_type": "code",
        "outputId": "a5fe6614-0989-4ba3-9c4b-0a9dbe12db57",
        "colab": {}
      },
      "source": [
        "toSpace <- content_transformer(function (x , pattern ) gsub(pattern, \" \", x))\n",
        "corpus <- tm_map(corpus, toSpace, \"/\") #remoção do caracter \"/\"\n",
        "corpus <- tm_map(corpus, toSpace, \"@\")\n",
        "corpus <- tm_map(corpus, toSpace, \"https\")\n",
        "corpus <- tm_map(corpus, toSpace, \"\\\\|\")\n",
        "corpus <- tm_map(corpus, content_transformer(tolower))#Passa para letra minúscula\n",
        "corpus <- tm_map(corpus, removeNumbers)\n",
        "corpus <- tm_map(corpus, removePunctuation)\n",
        "corpus <- tm_map(corpus, stripWhitespace)\n",
        "corpus <- tm_map(corpus, removeWords, stopwords('pt'))#Remove as stop words \n",
        "stopwords2<-c(stopwords(\"pt\"),\"pra\",\"hoje\",\"ser\",\"tá\",\"dar\",\"aí\",\"con\",\"tco\")#Adicinando \n",
        "#algumas palavras para exclusão\n",
        "corpus <- tm_map(corpus, removeWords, stopwords2)"
      ],
      "execution_count": 0,
      "outputs": [
        {
          "output_type": "stream",
          "text": [
            "Warning message in tm_map.SimpleCorpus(corpus, toSpace, \"/\"):\n",
            "\"transformation drops documents\"Warning message in tm_map.SimpleCorpus(corpus, toSpace, \"@\"):\n",
            "\"transformation drops documents\"Warning message in tm_map.SimpleCorpus(corpus, toSpace, \"https\"):\n",
            "\"transformation drops documents\"Warning message in tm_map.SimpleCorpus(corpus, toSpace, \"\\\\|\"):\n",
            "\"transformation drops documents\"Warning message in tm_map.SimpleCorpus(corpus, content_transformer(tolower)):\n",
            "\"transformation drops documents\"Warning message in tm_map.SimpleCorpus(corpus, removeNumbers):\n",
            "\"transformation drops documents\"Warning message in tm_map.SimpleCorpus(corpus, removePunctuation):\n",
            "\"transformation drops documents\"Warning message in tm_map.SimpleCorpus(corpus, stripWhitespace):\n",
            "\"transformation drops documents\"Warning message in tm_map.SimpleCorpus(corpus, removeWords, stopwords(\"pt\")):\n",
            "\"transformation drops documents\"Warning message in tm_map.SimpleCorpus(corpus, removeWords, stopwords2):\n",
            "\"transformation drops documents\""
          ],
          "name": "stderr"
        }
      ]
    },
    {
      "cell_type": "code",
      "metadata": {
        "id": "bQ8ftXmEh83r",
        "colab_type": "code",
        "outputId": "1796d7df-eedc-450b-8bc1-ce36291e0fc5",
        "colab": {}
      },
      "source": [
        "inspect(corpus[6:20])"
      ],
      "execution_count": 0,
      "outputs": [
        {
          "output_type": "stream",
          "text": [
            "<<SimpleCorpus>>\n",
            "Metadata:  corpus specific: 1, document level (indexed): 0\n",
            "Content:  documents: 15\n",
            "\n",
            " [1]  gerson<U+0001F60D> flaxbot flamengo campeonatodobrasileiro<U+200D><U+2640><U+FE0F> flaxbot flamengo campeonatodobrasileira    itabaiana vai querer emprestado<U+0001F926><U+0001F3FB><U+200D><U+2640><U+FE0F> flamengo libertadores emexfL\n",
            " [2] hey flamengo empresta  lucas silva pro santosfc   vê  parada aqui<U+0001F914> flamengodobrasileira    itabaiana vai querer emprestado<U+0001F926><U+0001F3FB><U+200D><U+2640><U+FE0F> flamengo libertadores emexfL\n",
            " [3]  diego giras  acerta  bola parada  acerta  pênalti  é sempre   bate falta bom senso flamengo libertadores emexfla                                               \n",
            " [4] falta pro diego bater rs flamengo libertadores emexfla                                                                                                          \n",
            " [5]  técnico  botafogo parece  césar menotti  fabiano <U+0001F633> flaxbot flamengole  bate falta bom senso flamengo libertadores emexfla                           \n",
            " [6]  técnico  coloca lucas silva  campo  libertadores   é  levar uns tapa  cara  vê  acorda<U+0001F605> emexfla flamengo libertadores<U+653C><U+3E64><U+623C><U+3E66><U+623C><U+3E62><U+200D><U+2640><U+FE0F> flamengo libertadores emexfL\n",
            " [7] flamengo ataca vezes  nada  adversário vai  vez  faz difícil flaxbot campeonatodobrasileiro flamengo                                                            \n",
            " [8]   vou mandar  vai tomar  olho   cu jorge jesus enfia  diego arão renê rodinei lucas silva  lincoln tudo bem dentro   cu  fdp flamengo                           \n",
            " [9] podiam ter deixado  fera  comissão  dá umas dicas   sim    jesus porque  bando    campo  difícil  animar<U+0001F926><U+0001F3FB><U+200D><U+2640><U+FE0F> flamengo libertadores emexfLemexfL\n",
            "[10]   armador é difícil  bola  chega  ataque gabigol tendo  sair  área  fazer  função flamengo libertadores emexfla                                                 \n",
            "[11]  time feio  deus<U+0001F926><U+0001F3FB><U+200D><U+2640><U+FE0F> flamengo libertadores emexfLendo  sair  área  fazer  função flamengo libertadores emexfla      \n",
            "[12]   emprestar  lincoln  vê  acontece     jean lucas<U+0001F926><U+0001F3FB><U+200D><U+2640><U+FE0F> flaxbot flamengo campeonatodobrasileirbertadores emexfla      \n",
            "[13] gostei dessa escalação  papel  legal<U+0001F914> flaxbot flamengo crf  tvakaesflamengo campeonatodobrasileirbertadores emexfla                                  \n",
            "[14]  paolla vendo vc nessa foto  quase esqueci  jogo  flamengo                                                                                                      \n",
            "[15] minuto llega emelec al área brasileña pero el central  flamengo envía al tiro  esquina emelec flamengo                                                          \n"
          ],
          "name": "stdout"
        }
      ]
    },
    {
      "cell_type": "markdown",
      "metadata": {
        "id": "J8v5dFath83u",
        "colab_type": "text"
      },
      "source": [
        "#### Criar uma variável matricial do corpus"
      ]
    },
    {
      "cell_type": "code",
      "metadata": {
        "id": "tpgAYMlLh83v",
        "colab_type": "code",
        "outputId": "8fed538d-2bc1-4f3e-b823-5941f7f3ecfd",
        "colab": {}
      },
      "source": [
        "dtm <- TermDocumentMatrix(corpus)\n",
        "m <- as.matrix(dtm)\n",
        "v <- sort(rowSums(m),decreasing=TRUE)\n",
        "d <- data.frame(word = names(v),freq=v)\n",
        "head(d, 7)"
      ],
      "execution_count": 0,
      "outputs": [
        {
          "output_type": "display_data",
          "data": {
            "text/html": [
              "<table>\n",
              "<caption>A data.frame: 7 × 2</caption>\n",
              "<thead>\n",
              "\t<tr><th></th><th scope=col>word</th><th scope=col>freq</th></tr>\n",
              "\t<tr><th></th><th scope=col>&lt;fct&gt;</th><th scope=col>&lt;dbl&gt;</th></tr>\n",
              "</thead>\n",
              "<tbody>\n",
              "\t<tr><th scope=row>flamengo</th><td>flamengo    </td><td>17681</td></tr>\n",
              "\t<tr><th scope=row>libertadores</th><td>libertadores</td><td> 2021</td></tr>\n",
              "\t<tr><th scope=row>emelec</th><td>emelec      </td><td> 1973</td></tr>\n",
              "\t<tr><th scope=row>crf</th><td>crf         </td><td> 1321</td></tr>\n",
              "\t<tr><th scope=row>jogo</th><td>jogo        </td><td> 1071</td></tr>\n",
              "\t<tr><th scope=row>time</th><td>time        </td><td> 1058</td></tr>\n",
              "\t<tr><th scope=row>emexfla</th><td>emexfla     </td><td> 1007</td></tr>\n",
              "</tbody>\n",
              "</table>\n"
            ],
            "text/latex": "A data.frame: 7 × 2\n\\begin{tabular}{r|ll}\n  & word & freq\\\\\n  & <fct> & <dbl>\\\\\n\\hline\n\tflamengo & flamengo     & 17681\\\\\n\tlibertadores & libertadores &  2021\\\\\n\temelec & emelec       &  1973\\\\\n\tcrf & crf          &  1321\\\\\n\tjogo & jogo         &  1071\\\\\n\ttime & time         &  1058\\\\\n\temexfla & emexfla      &  1007\\\\\n\\end{tabular}\n",
            "text/markdown": "\nA data.frame: 7 × 2\n\n| <!--/--> | word &lt;fct&gt; | freq &lt;dbl&gt; |\n|---|---|---|\n| flamengo | flamengo     | 17681 |\n| libertadores | libertadores |  2021 |\n| emelec | emelec       |  1973 |\n| crf | crf          |  1321 |\n| jogo | jogo         |  1071 |\n| time | time         |  1058 |\n| emexfla | emexfla      |  1007 |\n\n",
            "text/plain": [
              "             word         freq \n",
              "flamengo     flamengo     17681\n",
              "libertadores libertadores  2021\n",
              "emelec       emelec        1973\n",
              "crf          crf           1321\n",
              "jogo         jogo          1071\n",
              "time         time          1058\n",
              "emexfla      emexfla       1007"
            ]
          },
          "metadata": {
            "tags": []
          }
        }
      ]
    },
    {
      "cell_type": "code",
      "metadata": {
        "id": "-rwwTz0Xh83y",
        "colab_type": "code",
        "colab": {}
      },
      "source": [
        "#Diminuímos a frequência da primeira palavra\n",
        "d[1,2]<-3000\n"
      ],
      "execution_count": 0,
      "outputs": []
    },
    {
      "cell_type": "markdown",
      "metadata": {
        "id": "kn_b19cKh833",
        "colab_type": "text"
      },
      "source": [
        "#### Plotar o gráfico de nuvem."
      ]
    },
    {
      "cell_type": "code",
      "metadata": {
        "id": "psMMG88wh834",
        "colab_type": "code",
        "outputId": "fe585db9-ef82-4adc-ce36-afeb61d16430",
        "colab": {}
      },
      "source": [
        "set.seed(1234)\n",
        "wordcloud(words = d$word, freq = d$freq, min.freq = 0.1,\n",
        "          max.words=80, random.order=FALSE, rot.per=0.1, \n",
        "          colors=brewer.pal(8, \"Dark2\"))\n"
      ],
      "execution_count": 0,
      "outputs": [
        {
          "output_type": "display_data",
          "data": {
            "image/png": "[encoded data removed]",
            "text/plain": [
              "plot without title"
            ]
          },
          "metadata": {
            "tags": []
          }
        }
      ]
    }
  ]
}
